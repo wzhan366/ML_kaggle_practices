{
 "cells": [
  {
   "cell_type": "markdown",
   "metadata": {},
   "source": [
    "# Central Limit Theorem"
   ]
  },
  {
   "cell_type": "markdown",
   "metadata": {},
   "source": [
    "中心极限定理： 对任意分布进行抽样后，再对每个样本求均值（每组30个样本以上即可），这些均值符合正态分布。"
   ]
  },
  {
   "cell_type": "markdown",
   "metadata": {},
   "source": [
    "In probability theory, the central limit theorem (CLT) establishes that, in some situations, when independent random variables are added, their properly normalized sum tends toward a normal distribution (informally a \"bell curve\") even if the original variables themselves are not normally distributed. "
   ]
  },
  {
   "cell_type": "markdown",
   "metadata": {},
   "source": [
    "## Generate the overall random data"
   ]
  },
  {
   "cell_type": "code",
   "execution_count": 24,
   "metadata": {},
   "outputs": [
    {
     "name": "stdout",
     "output_type": "stream",
     "text": [
      "Mean:  3.4663\n",
      "Standard:  1.7186809797050762\n"
     ]
    }
   ],
   "source": [
    "import numpy as np \n",
    "data_size = 10000\n",
    "random_data = np.random.randint(1, 7, data_size)\n",
    "print 'Mean: ', random_data.mean() # 打印平均值\n",
    "print 'Standard: ', random_data.std()  # 打印标准差"
   ]
  },
  {
   "cell_type": "code",
   "execution_count": 25,
   "metadata": {},
   "outputs": [
    {
     "name": "stdout",
     "output_type": "stream",
     "text": [
      "10000\n"
     ]
    }
   ],
   "source": [
    "print len(random_data)"
   ]
  },
  {
   "cell_type": "code",
   "execution_count": 26,
   "metadata": {},
   "outputs": [],
   "source": [
    "import matplotlib.pyplot as plt"
   ]
  },
  {
   "cell_type": "code",
   "execution_count": 27,
   "metadata": {},
   "outputs": [
    {
     "data": {
      "text/plain": [
       "(array([1760.,    0., 1675.,    0., 1643.,    0., 1620.,    0., 1668.,\n",
       "        1634.]),\n",
       " array([1. , 1.5, 2. , 2.5, 3. , 3.5, 4. , 4.5, 5. , 5.5, 6. ]),\n",
       " <a list of 10 Patch objects>)"
      ]
     },
     "execution_count": 27,
     "metadata": {},
     "output_type": "execute_result"
    },
    {
     "data": {
      "image/png": "[encoded data removed]",
      "text/plain": [
       "<Figure size 432x288 with 1 Axes>"
      ]
     },
     "metadata": {
      "needs_background": "light"
     },
     "output_type": "display_data"
    }
   ],
   "source": [
    "random_data = np.array(random_data)\n",
    "plt.hist(random_data)"
   ]
  },
  {
   "cell_type": "markdown",
   "metadata": {},
   "source": [
    "## A small sample test"
   ]
  },
  {
   "cell_type": "code",
   "execution_count": 28,
   "metadata": {},
   "outputs": [
    {
     "name": "stdout",
     "output_type": "stream",
     "text": [
      "[4, 4, 3, 2, 2, 1, 6, 2, 4, 1]\n"
     ]
    }
   ],
   "source": [
    "sample1 = []\n",
    "for i in range(0, 10):\n",
    "    sample1.append(random_data[int(np.random.random() * len(random_data))])\n",
    "\n",
    "print sample1 # 打印出来"
   ]
  },
  {
   "cell_type": "code",
   "execution_count": 29,
   "metadata": {},
   "outputs": [
    {
     "name": "stdout",
     "output_type": "stream",
     "text": [
      "Mean:  2.9\n",
      "Standard:  1.5132745950421556\n"
     ]
    }
   ],
   "source": [
    "print 'Mean: ', np.array(sample1).mean() # 打印平均值\n",
    "print 'Standard: ', np.array(sample1).std()  # 打印标准差"
   ]
  },
  {
   "cell_type": "markdown",
   "metadata": {},
   "source": [
    "可以看到，我们只抽10个的时候，样本的平均值（4.0）会距离总体的平均值（3.5）有所偏差。\n",
    "有时候我们运气不好，抽出来的数字可能偏差很大，比如抽出来10个数字都是6。那平均值就是6了。 为什么会出现都是6的情况呢？因为我比较6…哦不是，因为这就是随机的魅力呀！"
   ]
  },
  {
   "cell_type": "markdown",
   "metadata": {},
   "source": [
    "## More sample sets and test"
   ]
  },
  {
   "cell_type": "code",
   "execution_count": 30,
   "metadata": {},
   "outputs": [],
   "source": [
    "samples = []\n",
    "samples_mean = []\n",
    "samples_std = []\n",
    "\n",
    "for i in range(0, 1000): # sample 1000 times, each sample has 50 data points, so it's 10% of the original data set\n",
    "    sample = []\n",
    "    for j in range(0, 50):\n",
    "        sample.append(random_data[int(np.random.random() * len(random_data))])\n",
    "    sample_np = np.array(sample)\n",
    "    samples_mean.append(sample_np.mean())\n",
    "    samples_std.append(sample_np.std())\n",
    "    samples.append(sample_np)\n",
    "\n",
    "samples_mean_np = np.array(samples_mean)\n",
    "samples_std_np = np.array(samples_std)\n",
    "\n",
    "# print samples_mean_np\n",
    "# print samples_std_np"
   ]
  },
  {
   "cell_type": "code",
   "execution_count": 31,
   "metadata": {},
   "outputs": [
    {
     "data": {
      "text/plain": [
       "(array([  3.,  18.,  53., 140., 196., 253., 185., 112.,  32.,   8.]),\n",
       " array([2.62 , 2.778, 2.936, 3.094, 3.252, 3.41 , 3.568, 3.726, 3.884,\n",
       "        4.042, 4.2  ]),\n",
       " <a list of 10 Patch objects>)"
      ]
     },
     "execution_count": 31,
     "metadata": {},
     "output_type": "execute_result"
    },
    {
     "data": {
      "image/png": "[encoded data removed]",
      "text/plain": [
       "<Figure size 432x288 with 1 Axes>"
      ]
     },
     "metadata": {
      "needs_background": "light"
     },
     "output_type": "display_data"
    }
   ],
   "source": [
    "plt.hist(samples_mean_np)"
   ]
  },
  {
   "cell_type": "markdown",
   "metadata": {},
   "source": [
    "## Let try this on poisson data set"
   ]
  },
  {
   "cell_type": "code",
   "execution_count": 32,
   "metadata": {},
   "outputs": [],
   "source": [
    "possion_data = np.random.poisson(lam=1.0, size=data_size)"
   ]
  },
  {
   "cell_type": "code",
   "execution_count": 33,
   "metadata": {},
   "outputs": [
    {
     "name": "stdout",
     "output_type": "stream",
     "text": [
      "[1 3 3 ... 1 1 2]\n"
     ]
    }
   ],
   "source": [
    "print possion_data"
   ]
  },
  {
   "cell_type": "code",
   "execution_count": 34,
   "metadata": {},
   "outputs": [
    {
     "name": "stdout",
     "output_type": "stream",
     "text": [
      "Mean:  1.0163\n",
      "Std:  1.0077868375802495\n"
     ]
    }
   ],
   "source": [
    "print 'Mean: ', possion_data.mean()\n",
    "print 'Std: ', possion_data.std()"
   ]
  },
  {
   "cell_type": "code",
   "execution_count": 35,
   "metadata": {},
   "outputs": [
    {
     "data": {
      "text/plain": [
       "(array([3613., 3696.,    0., 1854.,    0.,  635.,  162.,    0.,   34.,\n",
       "           6.]),\n",
       " array([0. , 0.6, 1.2, 1.8, 2.4, 3. , 3.6, 4.2, 4.8, 5.4, 6. ]),\n",
       " <a list of 10 Patch objects>)"
      ]
     },
     "execution_count": 35,
     "metadata": {},
     "output_type": "execute_result"
    },
    {
     "data": {
      "image/png": "[encoded data removed]",
      "text/plain": [
       "<Figure size 432x288 with 1 Axes>"
      ]
     },
     "metadata": {
      "needs_background": "light"
     },
     "output_type": "display_data"
    }
   ],
   "source": [
    "plt.hist(possion_data)"
   ]
  },
  {
   "cell_type": "markdown",
   "metadata": {},
   "source": [
    "### Let's try a small sample"
   ]
  },
  {
   "cell_type": "code",
   "execution_count": 36,
   "metadata": {},
   "outputs": [
    {
     "name": "stdout",
     "output_type": "stream",
     "text": [
      "[1, 1, 1, 0, 2, 1, 3, 0, 1, 0]\n"
     ]
    }
   ],
   "source": [
    "p_sample_1 = []\n",
    "\n",
    "for i in range(0, 10):\n",
    "    p_sample_1.append(possion_data[int(np.random.random() * data_size)])\n",
    "\n",
    "    \n",
    "print p_sample_1 # 打印出来"
   ]
  },
  {
   "cell_type": "code",
   "execution_count": 37,
   "metadata": {},
   "outputs": [
    {
     "name": "stdout",
     "output_type": "stream",
     "text": [
      "Mean:  1.0\n",
      "Std:  0.8944271909999159\n"
     ]
    }
   ],
   "source": [
    "print 'Mean: ', np.array(p_sample_1).mean()\n",
    "print 'Std: ', np.array(p_sample_1).std()"
   ]
  },
  {
   "cell_type": "code",
   "execution_count": 38,
   "metadata": {},
   "outputs": [],
   "source": [
    "p_samples = []\n",
    "p_samples_mean = []\n",
    "p_samples_std = []\n",
    "\n",
    "for i in range(0, 1000):\n",
    "    sample = []\n",
    "    for j in range(0, 50):\n",
    "        sample.append(possion_data[int(np.random.random() * data_size)])\n",
    "    p_sample_np = np.array(sample)\n",
    "    p_samples_mean.append(p_sample_np.mean())\n",
    "    p_samples_std.append(p_sample_np.std())\n",
    "    p_samples.append(p_sample_np)\n",
    "\n",
    "p_samples_mean_np = np.array(p_samples_mean)\n",
    "p_samples_std_np = np.array(p_samples_std)\n",
    "\n",
    "# print p_samples_mean_np;\n",
    "# print p_samples_std_np;"
   ]
  },
  {
   "cell_type": "code",
   "execution_count": 39,
   "metadata": {},
   "outputs": [
    {
     "data": {
      "text/plain": [
       "(array([  7.,  22.,  92., 162., 218., 226., 155.,  67.,  38.,  13.]),\n",
       " array([0.63245553, 0.70374622, 0.77503691, 0.84632759, 0.91761828,\n",
       "        0.98890897, 1.06019966, 1.13149034, 1.20278103, 1.27407172,\n",
       "        1.3453624 ]),\n",
       " <a list of 10 Patch objects>)"
      ]
     },
     "execution_count": 39,
     "metadata": {},
     "output_type": "execute_result"
    },
    {
     "data": {
      "image/png": "[encoded data removed]",
      "text/plain": [
       "<Figure size 432x288 with 1 Axes>"
      ]
     },
     "metadata": {
      "needs_background": "light"
     },
     "output_type": "display_data"
    }
   ],
   "source": [
    "plt.hist(p_samples_std_np)"
   ]
  },
  {
   "cell_type": "markdown",
   "metadata": {},
   "source": [
    "中心极限定理 不限制初始采样的分布特性"
   ]
  },
  {
   "cell_type": "code",
   "execution_count": null,
   "metadata": {},
   "outputs": [],
   "source": []
  },
  {
   "cell_type": "code",
   "execution_count": null,
   "metadata": {},
   "outputs": [],
   "source": []
  }
 ],
 "metadata": {
  "kernelspec": {
   "display_name": "Python 2",
   "language": "python",
   "name": "python2"
  },
  "language_info": {
   "codemirror_mode": {
    "name": "ipython",
    "version": 2
   },
   "file_extension": ".py",
   "mimetype": "text/x-python",
   "name": "python",
   "nbconvert_exporter": "python",
   "pygments_lexer": "ipython2",
   "version": "2.7.12"
  },
  "toc": {
   "base_numbering": 1,
   "nav_menu": {},
   "number_sections": true,
   "sideBar": true,
   "skip_h1_title": false,
   "title_cell": "Table of Contents",
   "title_sidebar": "Contents",
   "toc_cell": false,
   "toc_position": {},
   "toc_section_display": true,
   "toc_window_display": true
  }
 },
 "nbformat": 4,
 "nbformat_minor": 2
}
