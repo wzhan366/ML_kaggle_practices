{
 "cells": [
  {
   "cell_type": "markdown",
   "metadata": {},
   "source": [
    "https://www.kaggle.com/c/competitive-data-science-predict-future-sales/data\n",
    "\n",
    "\n",
    "- <b>Data Description</b><br>\n",
    "You are provided with daily historical sales data. The task is to forecast the total amount of products sold in every shop for the test set. Note that the list of shops and products slightly changes every month. Creating a robust model that can handle such situations is part of the challenge.\n",
    "\n",
    "- <b>File descriptions</b><br>\n",
    "sales_train.csv - the training set. Daily historical data from January 2013 to October 2015.\n",
    "test.csv - the test set. You need to forecast the sales for these shops and products for November 2015.\n",
    "sample_submission.csv - a sample submission file in the correct format.\n",
    "items.csv - supplemental information about the items/products.\n",
    "item_categories.csv  - supplemental information about the items categories.\n",
    "shops.csv- supplemental information about the shops.\n",
    "\n",
    "- <b>Data fields</b><br>\n",
    "ID - an Id that represents a (Shop, Item) tuple within the test set<br>\n",
    "shop_id - unique identifier of a shop<br>\n",
    "item_id - unique identifier of a product<br>\n",
    "item_category_id - unique identifier of item category<br>\n",
    "item_cnt_day - number of products sold. You are predicting a monthly amount of this measure<br>\n",
    "item_price - current price of an item<br>\n",
    "date - date in format dd/mm/yyyy<br>\n",
    "date_block_num - a consecutive month number, used for convenience. January 2013 is 0, February 2013 is 1,..., October 2015 is 33<br>\n",
    "item_name - name of item<br>\n",
    "shop_name - name of shop<br>\n",
    "item_category_name - name of item category<br>"
   ]
  },
  {
   "cell_type": "code",
   "execution_count": null,
   "metadata": {},
   "outputs": [],
   "source": []
  }
 ],
 "metadata": {
  "kernelspec": {
   "display_name": "Python 3",
   "language": "python",
   "name": "python3"
  },
  "language_info": {
   "codemirror_mode": {
    "name": "ipython",
    "version": 2
   },
   "file_extension": ".py",
   "mimetype": "text/x-python",
   "name": "python",
   "nbconvert_exporter": "python",
   "pygments_lexer": "ipython2",
   "version": "2.7.12"
  },
  "toc": {
   "base_numbering": 1,
   "nav_menu": {},
   "number_sections": true,
   "sideBar": true,
   "skip_h1_title": false,
   "title_cell": "Table of Contents",
   "title_sidebar": "Contents",
   "toc_cell": false,
   "toc_position": {},
   "toc_section_display": true,
   "toc_window_display": true
  }
 },
 "nbformat": 4,
 "nbformat_minor": 2
}
